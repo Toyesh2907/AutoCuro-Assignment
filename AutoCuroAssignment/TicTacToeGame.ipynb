{
 "cells": [
  {
   "cell_type": "code",
   "execution_count": 1,
   "id": "0bbeb867-0ee6-4712-9735-ac0c7a4be486",
   "metadata": {
    "tags": []
   },
   "outputs": [
    {
     "name": "stdout",
     "output_type": "stream",
     "text": [
      "WARNING:tensorflow:From C:\\Users\\Lenovo\\anaconda3\\Lib\\site-packages\\keras\\src\\losses.py:2976: The name tf.losses.sparse_softmax_cross_entropy is deprecated. Please use tf.compat.v1.losses.sparse_softmax_cross_entropy instead.\n",
      "\n"
     ]
    }
   ],
   "source": [
    "import numpy as np\n",
    "import pandas as pd\n",
    "from keras.models import load_model\n",
    "import random"
   ]
  },
  {
   "cell_type": "code",
   "execution_count": 2,
   "id": "46c3faa3-4d4a-4341-9e26-548c08f110d5",
   "metadata": {
    "tags": []
   },
   "outputs": [],
   "source": [
    "def printBoard(xState, zState):\n",
    "    zero = 'X' if xState[0] else ('O' if zState[0] else ' ')\n",
    "    one = 'X' if xState[1] else ('O' if zState[1] else ' ')\n",
    "    two = 'X' if xState[2] else ('O' if zState[2] else ' ')\n",
    "    three = 'X' if xState[3] else ('O' if zState[3] else ' ')\n",
    "    four = 'X' if xState[4] else ('O' if zState[4] else ' ')\n",
    "    five = 'X' if xState[5] else ('O' if zState[5] else ' ')\n",
    "    six = 'X' if xState[6] else ('O' if zState[6] else ' ')\n",
    "    seven = 'X' if xState[7] else ('O' if zState[7] else ' ')\n",
    "    eight = 'X' if xState[8] else ('O' if zState[8] else ' ')\n",
    "    print(f\"{zero} | {one} | {two}           0 | 1 | 2 \")\n",
    "    print(f\"--|---|---          --|---|---\")\n",
    "    print(f\"{three} | {four} | {five}           3 | 4 | 5 \")\n",
    "    print(f\"--|---|---          --|---|---\")\n",
    "    print(f\"{six} | {seven} | {eight}           6 | 7 | 8 \") "
   ]
  },
  {
   "cell_type": "code",
   "execution_count": 3,
   "id": "54620f70-8469-4a29-ba68-17aa4bdccce2",
   "metadata": {
    "tags": []
   },
   "outputs": [],
   "source": [
    "def checkWin(xState, zState)->int:\n",
    "    wins = [[0, 1, 2], [3, 4, 5], [6, 7, 8], [0, 3, 6], [1, 4, 7], [2, 5, 8], [0, 4, 8], [2, 4, 6]]\n",
    "    for win in wins:\n",
    "        if((xState[win[0]]+ xState[win[1]]+ xState[win[2]]) == 3):\n",
    "            print(\"You Won the match\")\n",
    "            printBoard(xState, zState)\n",
    "            return 1\n",
    "        if((zState[win[0]]+ zState[win[1]]+ zState[win[2]]) == 3):\n",
    "            print(\"Model Won the match\")\n",
    "            printBoard(xState, zState)\n",
    "            return 0\n",
    "    return -1"
   ]
  },
  {
   "cell_type": "code",
   "execution_count": 4,
   "id": "2e1411af-bbbf-4785-9840-d3f96b6dc1aa",
   "metadata": {
    "tags": []
   },
   "outputs": [],
   "source": [
    "def Preprocess_Data_input(data_input):\n",
    "    data_array=np.array(data_input)\n",
    "    data_array = np.array(data_array.tolist())\n",
    "    data_array = data_array.astype(np.float32)\n",
    "    data_array=data_array.reshape(1, 9)\n",
    "    return data_array"
   ]
  },
  {
   "cell_type": "code",
   "execution_count": 5,
   "id": "655eb666-1697-4b8d-b231-2a1aadfa6a7f",
   "metadata": {
    "tags": []
   },
   "outputs": [
    {
     "name": "stdout",
     "output_type": "stream",
     "text": [
      "WARNING:tensorflow:From C:\\Users\\Lenovo\\anaconda3\\Lib\\site-packages\\keras\\src\\backend.py:1398: The name tf.executing_eagerly_outside_functions is deprecated. Please use tf.compat.v1.executing_eagerly_outside_functions instead.\n",
      "\n",
      "Welcome to Tic Tac Toe\n",
      "  |   |             0 | 1 | 2 \n",
      "--|---|---          --|---|---\n",
      "  |   |             3 | 4 | 5 \n",
      "--|---|---          --|---|---\n",
      "  |   |             6 | 7 | 8 \n",
      "Your Chance\n"
     ]
    },
    {
     "name": "stdin",
     "output_type": "stream",
     "text": [
      "Please enter a value:  0\n"
     ]
    },
    {
     "name": "stdout",
     "output_type": "stream",
     "text": [
      "X |   |             0 | 1 | 2 \n",
      "--|---|---          --|---|---\n",
      "  |   |             3 | 4 | 5 \n",
      "--|---|---          --|---|---\n",
      "  |   |             6 | 7 | 8 \n",
      "Model's Chance\n",
      "1/1 [==============================] - 2s 2s/step\n",
      "X |   |             0 | 1 | 2 \n",
      "--|---|---          --|---|---\n",
      "  | O |             3 | 4 | 5 \n",
      "--|---|---          --|---|---\n",
      "  |   |             6 | 7 | 8 \n",
      "Your Chance\n"
     ]
    },
    {
     "name": "stdin",
     "output_type": "stream",
     "text": [
      "Please enter a value:  8\n"
     ]
    },
    {
     "name": "stdout",
     "output_type": "stream",
     "text": [
      "X |   |             0 | 1 | 2 \n",
      "--|---|---          --|---|---\n",
      "  | O |             3 | 4 | 5 \n",
      "--|---|---          --|---|---\n",
      "  |   | X           6 | 7 | 8 \n",
      "Model's Chance\n",
      "1/1 [==============================] - 0s 55ms/step\n",
      "X |   |             0 | 1 | 2 \n",
      "--|---|---          --|---|---\n",
      "O | O |             3 | 4 | 5 \n",
      "--|---|---          --|---|---\n",
      "  |   | X           6 | 7 | 8 \n",
      "Your Chance\n"
     ]
    },
    {
     "name": "stdin",
     "output_type": "stream",
     "text": [
      "Please enter a value:  5\n"
     ]
    },
    {
     "name": "stdout",
     "output_type": "stream",
     "text": [
      "X |   |             0 | 1 | 2 \n",
      "--|---|---          --|---|---\n",
      "O | O | X           3 | 4 | 5 \n",
      "--|---|---          --|---|---\n",
      "  |   | X           6 | 7 | 8 \n",
      "Model's Chance\n",
      "1/1 [==============================] - 0s 24ms/step\n",
      "X |   | O           0 | 1 | 2 \n",
      "--|---|---          --|---|---\n",
      "O | O | X           3 | 4 | 5 \n",
      "--|---|---          --|---|---\n",
      "  |   | X           6 | 7 | 8 \n",
      "Your Chance\n"
     ]
    },
    {
     "name": "stdin",
     "output_type": "stream",
     "text": [
      "Please enter a value:  6\n"
     ]
    },
    {
     "name": "stdout",
     "output_type": "stream",
     "text": [
      "X |   | O           0 | 1 | 2 \n",
      "--|---|---          --|---|---\n",
      "O | O | X           3 | 4 | 5 \n",
      "--|---|---          --|---|---\n",
      "X |   | X           6 | 7 | 8 \n",
      "Model's Chance\n",
      "1/1 [==============================] - 0s 27ms/step\n",
      "X | O | O           0 | 1 | 2 \n",
      "--|---|---          --|---|---\n",
      "O | O | X           3 | 4 | 5 \n",
      "--|---|---          --|---|---\n",
      "X |   | X           6 | 7 | 8 \n",
      "Your Chance\n"
     ]
    },
    {
     "name": "stdin",
     "output_type": "stream",
     "text": [
      "Please enter a value:  7\n"
     ]
    },
    {
     "name": "stdout",
     "output_type": "stream",
     "text": [
      "You Won the match\n",
      "X | O | O           0 | 1 | 2 \n",
      "--|---|---          --|---|---\n",
      "O | O | X           3 | 4 | 5 \n",
      "--|---|---          --|---|---\n",
      "X | X | X           6 | 7 | 8 \n",
      "Draw\n"
     ]
    }
   ],
   "source": [
    "if __name__=='__main__':\n",
    "    xState=[0,0,0,0,0,0,0,0,0]\n",
    "    zState=[0,0,0,0,0,0,0,0,0] \n",
    "    turn = 1 # 1 for X(You) and 0 for O(Model)\n",
    "    board_state=[0,0,0,0,0,0,0,0,0]\n",
    "    possible_index=[0,1,2,3,4,5,6,7,8]\n",
    "    model=load_model('C:/Users/Lenovo/AutoCuroAssignment/best_model.h5')\n",
    "    print(\"Welcome to Tic Tac Toe\")\n",
    "    while(True):\n",
    "        printBoard(xState, zState)\n",
    "        if(turn == 1):\n",
    "            print(\"Your Chance\")\n",
    "            value = int(input(\"Please enter a value: \"))\n",
    "            if(value not in possible_index):\n",
    "                print(\"invalid input restart the game\")\n",
    "                break\n",
    "            xState[value] = 1\n",
    "            for i in range(0,9):\n",
    "                if(xState[i]==1 and zState[i]==0):\n",
    "                    board_state[i]=1\n",
    "                elif(xState[i]==0 and zState[i]==1):\n",
    "                    board_state[i]=2\n",
    "                elif(xState[i]==0 and zState[i]==0):\n",
    "                    board_state[i]=0\n",
    "            possible_index.remove(value)\n",
    "        else:\n",
    "            print(\"Model's Chance\")\n",
    "            model_input_array=Preprocess_Data_input(board_state)\n",
    "            value=np.argmax(model.predict(model_input_array))\n",
    "            if(value in possible_index):\n",
    "                zState[value] = 1\n",
    "                possible_index.remove(value)\n",
    "            else:\n",
    "                value=random.randint(0,len(possible_index)-1)\n",
    "                zState[value]=1\n",
    "                possible_index.remove(value)\n",
    "        cwin = checkWin(xState, zState)\n",
    "        if(cwin != -1):\n",
    "            print(\"Draw\")\n",
    "            break\n",
    "        \n",
    "        turn = 1 - turn"
   ]
  },
  {
   "cell_type": "code",
   "execution_count": null,
   "id": "12fecaea-c264-47c0-acad-ccedbece0af0",
   "metadata": {},
   "outputs": [],
   "source": []
  }
 ],
 "metadata": {
  "kernelspec": {
   "display_name": "Python 3 (ipykernel)",
   "language": "python",
   "name": "python3"
  },
  "language_info": {
   "codemirror_mode": {
    "name": "ipython",
    "version": 3
   },
   "file_extension": ".py",
   "mimetype": "text/x-python",
   "name": "python",
   "nbconvert_exporter": "python",
   "pygments_lexer": "ipython3",
   "version": "3.11.5"
  }
 },
 "nbformat": 4,
 "nbformat_minor": 5
}
