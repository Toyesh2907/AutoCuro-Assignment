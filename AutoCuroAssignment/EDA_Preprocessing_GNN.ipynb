{
 "cells": [
  {
   "cell_type": "code",
   "execution_count": null,
   "id": "0343c8f3-923b-4074-ab74-c03a9e2ea506",
   "metadata": {
    "tags": []
   },
   "outputs": [],
   "source": [
    "import numpy as np\n",
    "import pandas as pd\n",
    "dataset=pd.read_csv('C:/Users/Lenovo/AutoCuroAssignment/tic_tac_toe_records_minimax.csv')\n",
    "new_ds=dataset\n",
    "new_ds"
   ]
  },
  {
   "cell_type": "code",
   "execution_count": null,
   "id": "faece028-9a59-4e88-b5d4-3da4fb68c3cc",
   "metadata": {
    "tags": []
   },
   "outputs": [],
   "source": [
    "character_function = lambda count_X, count_O: \"X\" if count_O >= count_X else \"O\"\n",
    "new_ds['Output_Graph']=None\n",
    "for index, row in new_ds.iterrows():\n",
    "    str=new_ds.iloc[index][0]\n",
    "    decision=new_ds.iloc[index][1]\n",
    "    character=character_function(str.count('X'),str.count('O'))\n",
    "    s = str[:decision-1] + character + str[decision-1 + 1:]\n",
    "    new_ds.at[index, 'Output_Graph'] = s\n",
    "    if(str=='         '):\n",
    "        new_ds.at[index,'decision']=5"
   ]
  },
  {
   "cell_type": "code",
   "execution_count": null,
   "id": "dc1aed29-842e-4a21-b532-8a7245fb6d27",
   "metadata": {
    "tags": []
   },
   "outputs": [],
   "source": [
    "new_ds"
   ]
  },
  {
   "cell_type": "code",
   "execution_count": null,
   "id": "7626d291-434a-4ab9-b98b-0853c1b8ef5d",
   "metadata": {
    "tags": []
   },
   "outputs": [],
   "source": [
    "new_ds=new_ds.rename(columns={'board':'Input Board'})\n",
    "new_ds=new_ds.rename(columns={'Output_Graph':'Output Board'})"
   ]
  },
  {
   "cell_type": "code",
   "execution_count": null,
   "id": "375f1a7a-d827-492d-8698-266afbb75f5e",
   "metadata": {
    "tags": []
   },
   "outputs": [],
   "source": [
    "new_ds"
   ]
  },
  {
   "cell_type": "code",
   "execution_count": null,
   "id": "7083c78c-8748-46f3-82c1-29507fa58857",
   "metadata": {
    "tags": []
   },
   "outputs": [],
   "source": [
    "new_ds['Input Graph']=None\n",
    "new_ds['Output Graph']=None"
   ]
  },
  {
   "cell_type": "code",
   "execution_count": null,
   "id": "116ca7d4-62f3-4418-92f6-a788c474aa3f",
   "metadata": {
    "tags": []
   },
   "outputs": [],
   "source": [
    "def change_matrix(matrix):\n",
    "    for i in range (0,3):\n",
    "        for j in range (0,3):\n",
    "            if(matrix[i][j]==' '):\n",
    "                matrix[i][j]=0\n",
    "            elif(matrix[i][j]=='X'):\n",
    "                matrix[i][j]=1\n",
    "            elif(matrix[i][j]=='O'):\n",
    "                matrix[i][j]=2\n",
    "    return matrix"
   ]
  },
  {
   "cell_type": "code",
   "execution_count": null,
   "id": "a7977392-0688-4772-b15a-e6f595b29c1b",
   "metadata": {
    "tags": []
   },
   "outputs": [],
   "source": [
    "for index, row in new_ds.iterrows():\n",
    "    str_input=new_ds.iloc[index][0]\n",
    "    str_output=new_ds.iloc[index][2]\n",
    "    \n",
    "    input_graph = [list(str_input[i:i+3]) for i in range(0, 9, 3)]\n",
    "    output_graph = [list(str_output[i:i+3]) for i in range(0, 9, 3)]\n",
    "    \n",
    "    input_graph=change_matrix(input_graph)\n",
    "    output_graph=change_matrix(output_graph)\n",
    "    \n",
    "    new_ds.at[index, 'Input Graph'] = input_graph\n",
    "    new_ds.at[index, 'Output Graph'] = output_graph"
   ]
  },
  {
   "cell_type": "code",
   "execution_count": null,
   "id": "f2102ac3-2c9f-41f5-83cc-b3409ce1c1a8",
   "metadata": {
    "tags": []
   },
   "outputs": [],
   "source": [
    "new_ds"
   ]
  },
  {
   "cell_type": "code",
   "execution_count": null,
   "id": "a4629728-d775-498d-9ab2-93c96668238d",
   "metadata": {
    "tags": []
   },
   "outputs": [],
   "source": [
    "new_ds. to_csv('C:/Users/Lenovo/AutoCuroAssignment/tic_tac_toe_records_minimax_Preprocessed.csv', index=False) "
   ]
  },
  {
   "cell_type": "code",
   "execution_count": null,
   "id": "fbcd651a-ffc4-4826-a6ae-72aab684bc2c",
   "metadata": {},
   "outputs": [],
   "source": []
  }
 ],
 "metadata": {
  "kernelspec": {
   "display_name": "Python 3 (ipykernel)",
   "language": "python",
   "name": "python3"
  },
  "language_info": {
   "codemirror_mode": {
    "name": "ipython",
    "version": 3
   },
   "file_extension": ".py",
   "mimetype": "text/x-python",
   "name": "python",
   "nbconvert_exporter": "python",
   "pygments_lexer": "ipython3",
   "version": "3.11.5"
  }
 },
 "nbformat": 4,
 "nbformat_minor": 5
}
